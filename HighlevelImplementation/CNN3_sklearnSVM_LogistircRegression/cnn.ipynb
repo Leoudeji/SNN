{
 "cells": [
  {
   "cell_type": "code",
   "execution_count": 1,
   "metadata": {},
   "outputs": [],
   "source": [
    "#fetch the data set:\n",
    "\n",
    "from sklearn.datasets import fetch_openml\n",
    " \n",
    "mnist_data = fetch_openml('mnist_784', version=1)\n",
    "\n",
    "#The best part about downloading the data directly from Scikit-Learn is that it comes associated with a set of keys"
   ]
  },
  {
   "cell_type": "code",
   "execution_count": 2,
   "metadata": {},
   "outputs": [
    {
     "name": "stdout",
     "output_type": "stream",
     "text": [
      "dict_keys(['data', 'target', 'frame', 'feature_names', 'target_names', 'DESCR', 'details', 'categories', 'url'])\n"
     ]
    }
   ],
   "source": [
    "print(mnist_data.keys())\n",
    "\n",
    "#basically, we get the `data` and target already separated. That makes the job much easier now\n",
    "#You can also see the description by using the DESCR"
   ]
  },
  {
   "cell_type": "code",
   "execution_count": 3,
   "metadata": {},
   "outputs": [
    {
     "name": "stdout",
     "output_type": "stream",
     "text": [
      "Shape of X: (70000, 784) \n",
      " Shape of y: (70000,)\n"
     ]
    }
   ],
   "source": [
    "X, y = mnist_data['data'], mnist_data['target']\n",
    "print('Shape of X:', X.shape, '\\n', 'Shape of y:', y.shape)\n",
    "\n",
    "#So the data key contains 70000 rows and 784 columns. \n",
    "#These columns all contain the pixel intensities of the handwritten numbers ranging from 0 to 255 which are of 28 x 28 (784) images. \n",
    "#the target key contains all the labels from 0 to 9 corresponding to the data key pixels."
   ]
  },
  {
   "cell_type": "code",
   "execution_count": 4,
   "metadata": {},
   "outputs": [
    {
     "data": {
      "text/plain": [
       "(-0.5, 27.5, 27.5, -0.5)"
      ]
     },
     "execution_count": 4,
     "metadata": {},
     "output_type": "execute_result"
    },
    {
     "data": {
      "image/png": "[encoded data removed]",
      "text/plain": [
       "<Figure size 432x288 with 3 Axes>"
      ]
     },
     "metadata": {
      "needs_background": "light"
     },
     "output_type": "display_data"
    }
   ],
   "source": [
    "# let us take a look at the first few digits that are in the data set. \n",
    "#For this, you will be using the popular matplotlib library.\n",
    "\n",
    "import matplotlib.pyplot as plt\n",
    " \n",
    "digit = X[0]\n",
    "digit_pixels = digit.reshape(28, 28)\n",
    "plt.subplot(131)\n",
    "plt.imshow(digit_pixels)\n",
    "plt.axis('off')\n",
    " \n",
    "digit = X[1]\n",
    "digit_pixels = digit.reshape(28, 28)\n",
    "plt.subplot(132)\n",
    "plt.imshow(digit_pixels)\n",
    "plt.axis('off')\n",
    " \n",
    "digit = X[2]\n",
    "digit_pixels = digit.reshape(28, 28)\n",
    "plt.subplot(133)\n",
    "plt.imshow(digit_pixels)\n",
    "plt.axis('off')\n",
    "\n",
    "#We reshaped the images from 1-D arrays to 28 x 28 matrices. \n",
    "#Then, we observe that we used plt.imshow(). Actually, that takes an array image data and plots the pixels on the screen."
   ]
  },
  {
   "cell_type": "code",
   "execution_count": 5,
   "metadata": {},
   "outputs": [
    {
     "data": {
      "text/plain": [
       "'4'"
      ]
     },
     "execution_count": 5,
     "metadata": {},
     "output_type": "execute_result"
    }
   ],
   "source": [
    "# let us check whether the plots are correct or not.\n",
    "\n",
    "y[2]"
   ]
  },
  {
   "cell_type": "code",
   "execution_count": 6,
   "metadata": {},
   "outputs": [
    {
     "data": {
      "text/plain": [
       "4"
      ]
     },
     "execution_count": 6,
     "metadata": {},
     "output_type": "execute_result"
    }
   ],
   "source": [
    "#the target label of y[2] is 4 as well, but with one caveat. The target label is a string. \n",
    "#It is better to convert the labels to integers as it will help further on in this guide.\n",
    "\n",
    "# Changing the labels from string to integers\n",
    "import numpy as np\n",
    "y = y.astype(np.uint8)\n",
    "y[2]"
   ]
  },
  {
   "cell_type": "markdown",
   "metadata": {},
   "source": [
    "# Separating The Training and Testing set"
   ]
  },
  {
   "cell_type": "code",
   "execution_count": 7,
   "metadata": {},
   "outputs": [
    {
     "name": "stdout",
     "output_type": "stream",
     "text": [
      "Train Data:  [[0. 0. 0. ... 0. 0. 0.]\n",
      " [0. 0. 0. ... 0. 0. 0.]\n",
      " [0. 0. 0. ... 0. 0. 0.]\n",
      " ...\n",
      " [0. 0. 0. ... 0. 0. 0.]\n",
      " [0. 0. 0. ... 0. 0. 0.]\n",
      " [0. 0. 0. ... 0. 0. 0.]] \n",
      " Test Data: [[0. 0. 0. ... 0. 0. 0.]\n",
      " [0. 0. 0. ... 0. 0. 0.]\n",
      " [0. 0. 0. ... 0. 0. 0.]\n",
      " ...\n",
      " [0. 0. 0. ... 0. 0. 0.]\n",
      " [0. 0. 0. ... 0. 0. 0.]\n",
      " [0. 0. 0. ... 0. 0. 0.]] \n",
      " Train label:  [5 0 4 ... 5 6 8] \n",
      " Test Label:  [7 2 1 ... 4 5 6]\n"
     ]
    }
   ],
   "source": [
    "#Next goal is to make a separate test set which the model will not see until the test phase is reached in the process.\n",
    "\n",
    "X_train, X_test, y_train, y_test = X[:60000], X[60000:], y[:60000], y[60000:]\n",
    "print('Train Data: ', X_train, '\\n', 'Test Data:', X_test, '\\n',\n",
    "     'Train label: ', y_train, '\\n', 'Test Label: ', y_test)\n",
    "\n",
    "#60000 image instances as the train data and 10000 for the testing."
   ]
  },
  {
   "cell_type": "markdown",
   "metadata": {},
   "source": [
    "# Training and Predicting"
   ]
  },
  {
   "cell_type": "markdown",
   "metadata": {},
   "source": [
    "In this part you will be using the Stochastic Gradient Descent classifier (SGD)\n",
    "Scikit-Learn’s SGDClassifier is a good place to start for linear classifiers. \n",
    "Using the loss parameter we will see how Support Vector Machine (Linear SVM) and Logistic Regression perform for the same dataset.\n",
    "\n"
   ]
  },
  {
   "cell_type": "markdown",
   "metadata": {},
   "source": [
    "# Using Linear SVM"
   ]
  },
  {
   "cell_type": "code",
   "execution_count": 8,
   "metadata": {},
   "outputs": [
    {
     "data": {
      "text/plain": [
       "SGDClassifier(alpha=0.0001, average=False, class_weight=None,\n",
       "              early_stopping=False, epsilon=0.1, eta0=0.0, fit_intercept=True,\n",
       "              l1_ratio=0.15, learning_rate='optimal', loss='hinge',\n",
       "              max_iter=1000, n_iter_no_change=5, n_jobs=None, penalty='l2',\n",
       "              power_t=0.5, random_state=42, shuffle=True, tol=0.001,\n",
       "              validation_fraction=0.1, verbose=0, warm_start=False)"
      ]
     },
     "execution_count": 8,
     "metadata": {},
     "output_type": "execute_result"
    }
   ],
   "source": [
    "#To use the Linear SVM Classifier you have to set the loss parameter to hinge\n",
    "#This is also set to linear SVM by default if you do not set it on your own.\n",
    "\n",
    "from sklearn.linear_model import SGDClassifier\n",
    " \n",
    "sgd_clf = SGDClassifier(loss='hinge', random_state=42)\n",
    "sgd_clf.fit(X_train, y_train)\n",
    "\n",
    "#This took 3mins"
   ]
  },
  {
   "cell_type": "code",
   "execution_count": 9,
   "metadata": {},
   "outputs": [
    {
     "data": {
      "text/plain": [
       "array([0.87365, 0.85835, 0.8689 ])"
      ]
     },
     "execution_count": 9,
     "metadata": {},
     "output_type": "execute_result"
    }
   ],
   "source": [
    "#Now that you have fit your model, before moving on to testing it, \n",
    "#let’s first see the cross-validation scores on the training data. \n",
    "#That you will give you a very good projection of how the model performs.\n",
    "\n",
    "from sklearn.model_selection import cross_val_score\n",
    " \n",
    "cross_val_score(sgd_clf, X_train, y_train, cv=3, scoring='accuracy')\n",
    "\n",
    "#This took 4mins"
   ]
  },
  {
   "cell_type": "code",
   "execution_count": 10,
   "metadata": {},
   "outputs": [
    {
     "data": {
      "text/plain": [
       "0.874"
      ]
     },
     "execution_count": 10,
     "metadata": {},
     "output_type": "execute_result"
    }
   ],
   "source": [
    "#For three-fold Cross-Validation you are getting around 87% – 88% accuracy. \n",
    "#Not too bad, not too good either. Now let’s see the actual test scores.\n",
    "\n",
    "score = sgd_clf.score(X_test, y_test)\n",
    "score\n",
    "\n",
    "#We are getting 84% accuracy. \n",
    "#Okay, looks like the model generalized a bit worse than the training data."
   ]
  },
  {
   "cell_type": "markdown",
   "metadata": {},
   "source": [
    "# Using Logistic Regression"
   ]
  },
  {
   "cell_type": "code",
   "execution_count": 11,
   "metadata": {},
   "outputs": [
    {
     "data": {
      "text/plain": [
       "SGDClassifier(alpha=0.0001, average=False, class_weight=None,\n",
       "              early_stopping=False, epsilon=0.1, eta0=0.0, fit_intercept=True,\n",
       "              l1_ratio=0.15, learning_rate='optimal', loss='log', max_iter=1000,\n",
       "              n_iter_no_change=5, n_jobs=None, penalty='l2', power_t=0.5,\n",
       "              random_state=42, shuffle=True, tol=0.001, validation_fraction=0.1,\n",
       "              verbose=0, warm_start=False)"
      ]
     },
     "execution_count": 11,
     "metadata": {},
     "output_type": "execute_result"
    }
   ],
   "source": [
    "#To classify using the Logistic Regression you have to set loss to log.\n",
    "\n",
    "\n",
    "sgd_clf = SGDClassifier(loss='log', random_state=42)\n",
    "sgd_clf.fit(X_train, y_train)\n",
    "\n",
    "#This took 3mins"
   ]
  },
  {
   "cell_type": "code",
   "execution_count": 12,
   "metadata": {},
   "outputs": [
    {
     "data": {
      "text/plain": [
       "array([0.8691 , 0.87985, 0.87845])"
      ]
     },
     "execution_count": 12,
     "metadata": {},
     "output_type": "execute_result"
    }
   ],
   "source": [
    "cross_val_score(sgd_clf, X_train, y_train, cv=3, scoring='accuracy')\n",
    "\n",
    "#This took 5mins"
   ]
  },
  {
   "cell_type": "code",
   "execution_count": 13,
   "metadata": {},
   "outputs": [
    {
     "data": {
      "text/plain": [
       "0.8772"
      ]
     },
     "execution_count": 13,
     "metadata": {},
     "output_type": "execute_result"
    }
   ],
   "source": [
    "score = sgd_clf.score(X_test, y_test)\n",
    "score\n",
    "\n",
    "#Interesting, although the cross-validation scores are not as good as linear SVM, but we are getting better test scores. \n",
    "#It is not too high this time as well, but still there is a slight improvement from about 84% to about 89%."
   ]
  },
  {
   "cell_type": "markdown",
   "metadata": {},
   "source": [
    "# Summary and Conclusion"
   ]
  },
  {
   "cell_type": "markdown",
   "metadata": {},
   "source": [
    "You can clearly see that there is much room for improvement. \n",
    "You should consider using some other classifiers like the K – Nearest Neighbor (KNN). It may give better results. "
   ]
  },
  {
   "cell_type": "markdown",
   "metadata": {},
   "source": [
    "Ref: https://debuggercafe.com/image-classification-with-mnist-dataset/"
   ]
  },
  {
   "cell_type": "code",
   "execution_count": null,
   "metadata": {},
   "outputs": [],
   "source": []
  }
 ],
 "metadata": {
  "kernelspec": {
   "display_name": "Python 3",
   "language": "python",
   "name": "python3"
  },
  "language_info": {
   "codemirror_mode": {
    "name": "ipython",
    "version": 3
   },
   "file_extension": ".py",
   "mimetype": "text/x-python",
   "name": "python",
   "nbconvert_exporter": "python",
   "pygments_lexer": "ipython3",
   "version": "3.7.6"
  }
 },
 "nbformat": 4,
 "nbformat_minor": 4
}
